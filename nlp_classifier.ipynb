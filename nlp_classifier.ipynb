{
 "cells": [
  {
   "cell_type": "markdown",
   "metadata": {},
   "source": [
    "# Import packages"
   ]
  },
  {
   "cell_type": "code",
   "execution_count": 2,
   "metadata": {},
   "outputs": [],
   "source": [
    "import tensorflow as tf\n",
    "import numpy as np\n",
    "import datetime\n",
    "import time\n",
    "import random\n",
    "import inflect\n",
    "import string\n",
    "import pandas as pd\n",
    "import pickle\n",
    "import h5py\n",
    "import itertools\n",
    "from nltk.corpus import wordnet as wn\n",
    "from tensorflow.keras.preprocessing.text import Tokenizer\n",
    "from tensorflow.keras.callbacks import ModelCheckpoint\n",
    "import matplotlib.pyplot as plt\n",
    "random.seed(10)"
   ]
  },
  {
   "cell_type": "markdown",
   "metadata": {},
   "source": [
    "# Generating data"
   ]
  },
  {
   "cell_type": "markdown",
   "metadata": {},
   "source": [
    "This first part is about getting the data to train the neural network. A part of the data is generated (dates, strings), while the other part is extracted from databases (locations, company names, physical goods and other). These databases are available to the public, but are not included in the repository.\n",
    "However, the repository contains some .txt files with the words extracted from such databases."
   ]
  },
  {
   "cell_type": "code",
   "execution_count": 3,
   "metadata": {},
   "outputs": [],
   "source": [
    "# this corresponds to the size of the smaller dataset available. \n",
    "# It will be used to balance the training set for each class\n",
    "size_dataset = 2639"
   ]
  },
  {
   "cell_type": "markdown",
   "metadata": {},
   "source": [
    "## Generate random dates"
   ]
  },
  {
   "cell_type": "code",
   "execution_count": 4,
   "metadata": {},
   "outputs": [],
   "source": [
    "from random import randrange\n",
    "from datetime import timedelta\n",
    "\n",
    "# generate a random date\n",
    "def random_date(start, end):\n",
    "\n",
    "    delta = end - start\n",
    "    int_delta = (delta.days * 24 * 60 * 60) + delta.seconds\n",
    "    random_second = randrange(int_delta)\n",
    "    date = start + timedelta(seconds=random_second)\n",
    "    \n",
    "    return int(date.strftime(\"%Y\")), int(date.strftime(\"%m\")), int(date.strftime(\"%d\"))"
   ]
  },
  {
   "cell_type": "code",
   "execution_count": 5,
   "metadata": {},
   "outputs": [],
   "source": [
    "# generate random date format\n",
    "p = inflect.engine()\n",
    "\n",
    "def random_format():\n",
    "    \n",
    "    # choose random date format\n",
    "    char_list = [\"/\", \"-\", \" \"] # spacer\n",
    "    d = '%d' \n",
    "    m = random.choice(['%b','%B','%m']) # month format\n",
    "    y = random.choice(['%y','%Y']) # year format\n",
    "    c = random.choice(char_list)\n",
    "    \n",
    "    # day first or month first\n",
    "    ordinal = random.choice([True,False])\n",
    "\n",
    "    format0 =  m + c + d + c + y # month first\n",
    "    format1 = d + c + m + c + y # day first\n",
    "    format_list = [format0, format1]\n",
    "    f = random.choice(format_list)\n",
    "    \n",
    "    # generate random dates between year 1800 and 2020\n",
    "    d1 = datetime.datetime.strptime('1/1/1800', '%m/%d/%Y')\n",
    "    d2 = datetime.datetime.strptime('10/5/2020', '%m/%d/%Y')\n",
    "    year, month, day = random_date(d1, d2)\n",
    "    \n",
    "\n",
    "    x = datetime.datetime(year, month, day)\n",
    "    \n",
    "    # if month is not in numeric format, add -st, -nd, -rd or -th to day\n",
    "    if m != \"%m\":\n",
    "        format2 = x.strftime(m) + c + p.ordinal(x.strftime(d).lstrip(\"0\")) + c + x.strftime(y)\n",
    "        format3 = p.ordinal(x.strftime(d).lstrip(\"0\")) + c + x.strftime(m) + c + x.strftime(y)\n",
    "        \n",
    "        x = random.choice([x.strftime(f), format2, format3] )\n",
    "        \n",
    "    else:\n",
    "        x = x.strftime(f)\n",
    "        \n",
    "    return x"
   ]
  },
  {
   "cell_type": "code",
   "execution_count": 6,
   "metadata": {},
   "outputs": [
    {
     "name": "stdout",
     "output_type": "stream",
     "text": [
      "01-20-28\n",
      "November 12th 1870\n",
      "Apr 27 93\n",
      "15-09-1835\n",
      "Apr 17 1998\n",
      "March/27th/1818\n",
      "07/05/1859\n",
      "Dec 29 1931\n",
      "Sep-16-08\n",
      "Jun 22 1951\n",
      "February/2nd/32\n",
      "May/5th/1836\n",
      "26/Aug/44\n",
      "Nov-18th-10\n",
      "January-30th-73\n",
      "10/10/1891\n",
      "12-October-02\n",
      "09/08/1918\n",
      "9th/September/20\n",
      "July/29th/1925\n"
     ]
    }
   ],
   "source": [
    "# a small set of random dates\n",
    "for i in range(0,20):\n",
    "    date = random_format()\n",
    "    print(date)"
   ]
  },
  {
   "cell_type": "code",
   "execution_count": 7,
   "metadata": {},
   "outputs": [],
   "source": [
    "# generate random dates list\n",
    "n_dates = size_dataset#5000\n",
    "dates_list = list()\n",
    "[dates_list.append(random_format()) for d in range(n_dates)];"
   ]
  },
  {
   "cell_type": "markdown",
   "metadata": {},
   "source": [
    "## Generate random strings"
   ]
  },
  {
   "cell_type": "code",
   "execution_count": 8,
   "metadata": {},
   "outputs": [],
   "source": [
    "# generate random strings, by mixing letters, punctuation and digits\n",
    "def generate_random_string():\n",
    "    \n",
    "    characters = random.choice([string.ascii_letters,\n",
    "                                #string.punctuation, # punctuation only looks too random\n",
    "                                string.digits,\n",
    "                                string.ascii_letters + string.punctuation,\n",
    "                                string.ascii_letters + string.digits,\n",
    "                                string.punctuation + string.digits,\n",
    "                                string.ascii_letters + string.punctuation + string.digits])\n",
    "    \n",
    "    # length will be between 1 and 20 characters\n",
    "    rand_string = \"\".join(random.choice(characters) for x in range(random.randint(1, 20)))\n",
    "    return rand_string"
   ]
  },
  {
   "cell_type": "code",
   "execution_count": 9,
   "metadata": {},
   "outputs": [
    {
     "name": "stdout",
     "output_type": "stream",
     "text": [
      "swfvsJSzI\n",
      "sqQC\n",
      "VwXqa\n",
      "3;7{HZQ9am4\"p\n",
      "TwxzHjDvWcCav\n",
      "}\n",
      "bTXlNsDocXSD\n",
      "58619977098\n",
      "4669\n",
      "knZMKviWqV\n",
      "974891419847569475\n",
      "#.nszG\n",
      ",)$%\n",
      "59832030553924432\n",
      "||9&(4_*8`^\\*27]+\n"
     ]
    }
   ],
   "source": [
    "# a small set of random strings\n",
    "for i in range(0,15):\n",
    "    random_string = generate_random_string()\n",
    "    print(random_string)"
   ]
  },
  {
   "cell_type": "code",
   "execution_count": 10,
   "metadata": {},
   "outputs": [],
   "source": [
    "# generate random strings list\n",
    "n_strings = size_dataset#5000\n",
    "strings_list = list()\n",
    "[strings_list.append(generate_random_string()) for d in range(n_strings)];"
   ]
  },
  {
   "cell_type": "markdown",
   "metadata": {},
   "source": [
    "## Get location data"
   ]
  },
  {
   "cell_type": "code",
   "execution_count": 11,
   "metadata": {},
   "outputs": [],
   "source": [
    "# delete redundant strings in a list\n",
    "def make_unique_list(l):\n",
    "    unique_list = list()\n",
    "    [unique_list.append(x) for x in l if x not in unique_list]\n",
    "    return unique_list"
   ]
  },
  {
   "cell_type": "code",
   "execution_count": 13,
   "metadata": {},
   "outputs": [],
   "source": [
    "# generate location dataset\n",
    "df_loc = pd.read_csv('world-cities.csv').dropna()\n",
    "df_numpy = df_loc.to_numpy()\n",
    "locations_list = df_numpy[:,0:3].flatten() \n",
    "locations_list = make_unique_list(locations_list)\n",
    "locations_list = random.sample(locations_list, size_dataset)"
   ]
  },
  {
   "cell_type": "code",
   "execution_count": 14,
   "metadata": {
    "scrolled": true
   },
   "outputs": [
    {
     "data": {
      "text/plain": [
       "['Aburi',\n",
       " 'Golestān',\n",
       " 'Tlaxcala de Xicohtencatl',\n",
       " 'Anshun',\n",
       " 'Loboc',\n",
       " 'Albert Lea',\n",
       " 'Lar',\n",
       " 'Fairborn',\n",
       " 'Shchukino',\n",
       " 'Bugiri',\n",
       " 'Cork',\n",
       " 'Russas',\n",
       " 'Ayvalık',\n",
       " 'Heppenheim an der Bergstrasse',\n",
       " 'Humanes de Madrid']"
      ]
     },
     "execution_count": 14,
     "metadata": {},
     "output_type": "execute_result"
    }
   ],
   "source": [
    "# a small set of places\n",
    "locations_list[0:15]"
   ]
  },
  {
   "cell_type": "markdown",
   "metadata": {},
   "source": [
    "## Get companies names data"
   ]
  },
  {
   "cell_type": "code",
   "execution_count": 140,
   "metadata": {},
   "outputs": [],
   "source": [
    "# generate companies names dataset\n",
    "df_list = list()\n",
    "for i in range(6):\n",
    "    name = 'BasicCompanyData-2020-05-01-part' + str(i+1) + '_6.csv'\n",
    "    df = pd.read_csv(name, low_memory=False)\n",
    "    df_list.append(df['CompanyName'])\n",
    "\n",
    "# save only the part with the names\n",
    "all_df = pd.concat(df_list)"
   ]
  },
  {
   "cell_type": "code",
   "execution_count": 279,
   "metadata": {},
   "outputs": [
    {
     "name": "stdout",
     "output_type": "stream",
     "text": [
      "2639\n"
     ]
    }
   ],
   "source": [
    "# Take small sample of the dataset\n",
    "df_reduced = all_df.sample(size_dataset)\n",
    "print(len(df_reduced))"
   ]
  },
  {
   "cell_type": "code",
   "execution_count": 280,
   "metadata": {
    "scrolled": true
   },
   "outputs": [],
   "source": [
    "# first letter of each word uppercase and convert to list\n",
    "df_capitalise = df_reduced.str.title()\n",
    "companies_list = df_capitalise.to_list()"
   ]
  },
  {
   "cell_type": "code",
   "execution_count": 281,
   "metadata": {},
   "outputs": [
    {
     "data": {
      "text/plain": [
       "['Merchant Place, Northallerton Management Limited',\n",
       " 'On Location Hire Limited',\n",
       " 'St Ronans Property Management Company Limited',\n",
       " 'Mach Global One Limited',\n",
       " 'C & R James Limited',\n",
       " 'Dei Holdings Ltd',\n",
       " 'Ajc Consults Limited',\n",
       " 'Mdavis&Prospectconsutants Limited',\n",
       " 'Tmlpse Ltd',\n",
       " 'V8 Specialists Ltd',\n",
       " 'Kl De Wit Ltd',\n",
       " 'Willoughby Court Rtm Company Limited',\n",
       " 'Nick Inc Ltd',\n",
       " 'Kam Cars Worcester Ltd',\n",
       " 'Everwood Estates Limited']"
      ]
     },
     "execution_count": 281,
     "metadata": {},
     "output_type": "execute_result"
    }
   ],
   "source": [
    "# a small set of companies names\n",
    "companies_list[0:15]"
   ]
  },
  {
   "cell_type": "markdown",
   "metadata": {},
   "source": [
    "## Get physical goods data"
   ]
  },
  {
   "cell_type": "code",
   "execution_count": 3,
   "metadata": {},
   "outputs": [],
   "source": [
    "# use WordNet to create set of nouns, verbs, adjectives and adverbs\n",
    "nouns = {x.name().split('.', 1)[0] for x in wn.all_synsets('n')}\n",
    "verbs = {x.name().split('.', 1)[0] for x in wn.all_synsets('v')}\n",
    "adjectives = {x.name().split('.', 1)[0] for x in wn.all_synsets('a')}\n",
    "adverbs = {x.name().split('.', 1)[0] for x in wn.all_synsets('r')}"
   ]
  },
  {
   "cell_type": "code",
   "execution_count": null,
   "metadata": {},
   "outputs": [],
   "source": [
    "# convert lists of amazon reviews into dataframes, but keep only the 'product_title' column\n",
    "df_tool = pd.read_table('amazon_reviews_us_Tools_v1_00.tsv',error_bad_lines=False)['product_title'].dropna();\n",
    "df_home = pd.read_table('amazon_reviews_us_Home_v1_00.tsv',error_bad_lines=False)['product_title'].dropna();\n",
    "df_electronics= pd.read_table('amazon_reviews_us_Electronics_v1_00.tsv',error_bad_lines=False)['product_title'].dropna();\n",
    "df_furniture= pd.read_table('amazon_reviews_us_Furniture_v1_00.tsv',error_bad_lines=False)['product_title'].dropna();\n",
    "df_sports= pd.read_table('amazon_reviews_us_Sports_v1_00.tsv',error_bad_lines=False)['product_title'].dropna();\n",
    "df_grocery= pd.read_table('amazon_reviews_us_Grocery_v1_00.tsv',error_bad_lines=False)['product_title'].dropna();"
   ]
  },
  {
   "cell_type": "code",
   "execution_count": 6,
   "metadata": {},
   "outputs": [],
   "source": [
    "# define function to fill a list of words in the right format\n",
    "def get_wordstlist(df_tool):\n",
    "    \n",
    "    # retain product_title and convert into list\n",
    "    df_tool_list = df_tool.to_list()\n",
    "    \n",
    "    # convert strings of descriptions into a single very long text string\n",
    "    df_tool_list = ' '.join(df_tool_list)\n",
    "    \n",
    "    # separate the text string into single words\n",
    "    join_tool_list = df_tool_list.split(' ')\n",
    "\n",
    "    # keep strings containing letters only, are nouns, non-adjectives, non-verbs, non-adverbs\n",
    "    #and are longer than two characters, then convert to title format\n",
    "    word_tool_list = []\n",
    "    [word_tool_list.append(word.lower()) for word in join_tool_list if word.isalpha() \n",
    "     and word.lower() in nouns and word.lower() not in adjectives and word.lower() not in verbs\n",
    "     and word.lower not in adverbs and len(word)>2]\n",
    "    \n",
    "    # delete repetitions\n",
    "    word_tool_list = make_unique_list(word_tool_list)\n",
    "    \n",
    "    return word_tool_list"
   ]
  },
  {
   "cell_type": "code",
   "execution_count": 11,
   "metadata": {},
   "outputs": [],
   "source": [
    "# keep only similar words (in this case, each word has to be some kind of tool)\n",
    "# this method seems to be relatively safe, provided that similarity_thr is high enough\n",
    "def keep_similar(words, similar_string, similarity_thr):\n",
    "    similar_words=[]\n",
    "    \n",
    "    # the choice of 'similar_string' is very critical. It is supposed to represent\n",
    "    # the concept of 'physical good' for each of the amazon databases\n",
    "    #w2 = wn.synset('tool.n.01') \n",
    "    w2 = wn.synset(similar_string + '.n.01') \n",
    "\n",
    "    # similarity_thr is a critical parameter\n",
    "    [similar_words.append(word) for word in words if wn.synset(word + '.n.01').wup_similarity(w2)>=similarity_thr ]\n",
    "    return similar_words"
   ]
  },
  {
   "cell_type": "code",
   "execution_count": 18,
   "metadata": {},
   "outputs": [],
   "source": [
    "# remove redundant words from lists\n",
    "words_tool = get_wordstlist(df_tool)\n",
    "words_home = get_wordstlist(df_home)\n",
    "words_furniture = get_wordstlist(df_furniture)\n",
    "words_electronics = get_wordstlist(df_electronics)\n",
    "words_sports = get_wordstlist(df_sports)\n",
    "words_grocery = get_wordstlist(df_grocery)"
   ]
  },
  {
   "cell_type": "code",
   "execution_count": 98,
   "metadata": {},
   "outputs": [],
   "source": [
    "# set similarity_thr: 0.61 is already a strict threshold. Imposing a slightly higher threshold \n",
    "# significantly reduces the size of the 'physical goods' dataset\n",
    "similarity_thr = 0.61\n",
    "\n",
    "# keep only those words whose concept is similar to the word 'tool'\n",
    "similar_tool = keep_similar(words_tool, 'tool', similarity_thr)\n",
    "similar_home = keep_similar(words_home, 'tool', similarity_thr)\n",
    "similar_electronics = keep_similar(words_electronics, 'resistor', similarity_thr)\n",
    "similar_furniture = keep_similar(words_furniture, 'couch', similarity_thr)\n",
    "similar_sports = keep_similar(words_sports, 'ball', similarity_thr)\n",
    "similar_grocery = keep_similar(words_home, 'food', similarity_thr)"
   ]
  },
  {
   "cell_type": "code",
   "execution_count": 100,
   "metadata": {},
   "outputs": [
    {
     "name": "stdout",
     "output_type": "stream",
     "text": [
      "800 1133 282 627 206 495\n"
     ]
    }
   ],
   "source": [
    "print(len(similar_tool), len(similar_home), len(similar_grocery), len(similar_sports), len(similar_furniture),\n",
    "     len(similar_electronics))"
   ]
  },
  {
   "cell_type": "code",
   "execution_count": 101,
   "metadata": {},
   "outputs": [],
   "source": [
    "# combine tools and home lists, then delete shared items\n",
    "similar_all = similar_tool + similar_home + similar_electronics + similar_furniture +\\\n",
    "            similar_sports + similar_grocery\n",
    "similar_all = make_unique_list(similar_all)"
   ]
  },
  {
   "cell_type": "code",
   "execution_count": 102,
   "metadata": {},
   "outputs": [],
   "source": [
    "# augment size of dataset by including synonims\n",
    "def get_synonims(word_list, synonym_similarity_thr):\n",
    "    syn = list()\n",
    "    \n",
    "    for word in word_list:\n",
    "        for synset in wn.synsets(word):\n",
    "            \n",
    "            # append the original word\n",
    "            syn.append(word)\n",
    "            \n",
    "            # try if there is no error \n",
    "            try:\n",
    "                similarity = synset.wup_similarity(wn.synset(word + '.n.01'))\n",
    "                if similarity == synonym_similarity_thr:\n",
    "                \n",
    "                    for lemma in synset.lemmas():\n",
    "                        # append the suitable synonyms\n",
    "                        syn.append(lemma.name().lower().replace('_', ' '))\n",
    "            \n",
    "            except:\n",
    "                continue\n",
    "            \n",
    "    # delete redundant synonims\n",
    "    syn = make_unique_list(syn)\n",
    "    return syn"
   ]
  },
  {
   "cell_type": "code",
   "execution_count": 103,
   "metadata": {
    "scrolled": true
   },
   "outputs": [
    {
     "name": "stdout",
     "output_type": "stream",
     "text": [
      "1622 2639\n"
     ]
    }
   ],
   "source": [
    "# a lot of synonims seem to be unrlelated to the input word. We impose a very strict similarity threshold\n",
    "synonym_similarity_thr = 1.0\n",
    "goods_list = get_synonims(similar_all, synonym_similarity_thr)\n",
    "print(len(similar_all), len(goods_list))"
   ]
  },
  {
   "cell_type": "markdown",
   "metadata": {},
   "source": [
    "The physical goods dataset seems to have a much smaller size compared to the others. Hower, it is crucial to have a good quality set of words, which we are really sure to represent the 'physical goods' class."
   ]
  },
  {
   "cell_type": "code",
   "execution_count": 238,
   "metadata": {},
   "outputs": [
    {
     "data": {
      "text/plain": [
       "['workbench',\n",
       " 'work bench',\n",
       " 'bench',\n",
       " 'pegboard',\n",
       " 'pliers',\n",
       " 'pair of pliers',\n",
       " 'plyers',\n",
       " 'kit',\n",
       " 'flashlight',\n",
       " 'torch',\n",
       " 'holder',\n",
       " 'lamp',\n",
       " 'hydrometer',\n",
       " 'gravimeter',\n",
       " 'lens',\n",
       " 'lense',\n",
       " 'lens system',\n",
       " 'weapon',\n",
       " 'arm',\n",
       " 'weapon system']"
      ]
     },
     "execution_count": 238,
     "metadata": {},
     "output_type": "execute_result"
    }
   ],
   "source": [
    "# a small set of physical goods names\n",
    "goods_list[0:20]"
   ]
  },
  {
   "cell_type": "markdown",
   "metadata": {},
   "source": [
    "## Get 'other' data"
   ]
  },
  {
   "cell_type": "code",
   "execution_count": 282,
   "metadata": {},
   "outputs": [],
   "source": [
    "# create a list of every list generated except for 'others'\n",
    "all_words_without_others = dates_list + locations_list + strings_list + companies_list + goods_list\n",
    "\n",
    "# by applying lower case to every word, we avoid keeping doubles with lower/upper cases \n",
    "all_words_without_others_lower = [x.lower() for x in all_words_without_others]"
   ]
  },
  {
   "cell_type": "code",
   "execution_count": 283,
   "metadata": {
    "scrolled": false
   },
   "outputs": [],
   "source": [
    "# generate 'Other' dataset. Let's stick to just nouns for convenience\n",
    "others_list = list()\n",
    "\n",
    "# creat list of wordnet words\n",
    "wordnet_words = nouns.union(verbs).union(adjectives).union(adverbs).union(nouns)\n",
    "wordnet_words.remove('')\n",
    "#wordnet_words = random.shuffle(list(all_words))\n",
    "#wordnet_words = filter(lambda x: x is not None, wordnet_words)\n",
    "#print(wordnet_words[0])\n",
    "\n",
    "for word in wordnet_words:\n",
    "    #print(word)\n",
    "    word = word.capitalize().replace('_', ' ')\n",
    "    \n",
    "    # we want no elements in common with the other sets of words we generated earlier. \n",
    "    # Also, we want no upper/lower case doubles\n",
    "    if word.lower() not in all_words_without_others_lower:\n",
    "        others_list.append(word)\n",
    "        if len(others_list) >= size_dataset:\n",
    "            break"
   ]
  },
  {
   "cell_type": "code",
   "execution_count": 284,
   "metadata": {},
   "outputs": [
    {
     "data": {
      "text/plain": [
       "['Wild spinach',\n",
       " 'Nonviolent',\n",
       " 'Rejoin',\n",
       " 'Genus aerides',\n",
       " 'Manifest',\n",
       " 'Altogether',\n",
       " 'Top-secret',\n",
       " 'Fringed pink',\n",
       " 'Digit',\n",
       " 'Boo',\n",
       " 'Apogamic',\n",
       " 'Couchant',\n",
       " 'Headliner',\n",
       " 'Inclusion body',\n",
       " 'Coccidae']"
      ]
     },
     "execution_count": 284,
     "metadata": {},
     "output_type": "execute_result"
    }
   ],
   "source": [
    "# a small set of other strings names\n",
    "others_list[0:15]"
   ]
  },
  {
   "cell_type": "code",
   "execution_count": 286,
   "metadata": {},
   "outputs": [],
   "source": [
    "# save generated lists\n",
    "#with open(\"others_list.txt\", \"wb\") as fp:\n",
    "#    pickle.dump(others_list, fp)\n",
    "#with open(\"locations_list.txt\", \"wb\") as fp:\n",
    "#    pickle.dump(locations_list, fp)\n",
    "#with open(\"goods_list.txt\", \"wb\") as fp:\n",
    "#    pickle.dump(goods_list, fp)\n",
    "#with open(\"companies_list.txt\", \"wb\") as fp:\n",
    "#    pickle.dump(companies_list, fp)\n",
    "#with open(\"strings_list.txt\", \"wb\") as fp:\n",
    "#    pickle.dump(strings_list, fp)\n",
    "#with open(\"dates_list.txt\", \"wb\") as fp:\n",
    "#    pickle.dump(dates_list, fp)"
   ]
  },
  {
   "cell_type": "markdown",
   "metadata": {},
   "source": [
    "# Generating datasets"
   ]
  },
  {
   "cell_type": "markdown",
   "metadata": {},
   "source": [
    "In this section, a dataset containing the input data and the target labels is generated. For the purpose of the task, the previous section can be ignored, the list of words can be loaded in the next cell."
   ]
  },
  {
   "cell_type": "code",
   "execution_count": 287,
   "metadata": {},
   "outputs": [],
   "source": [
    "# load txt lists (available in the repo)\n",
    "with open(\"others_list.txt\", \"rb\") as fp:\n",
    "    others_list = pickle.load(fp)\n",
    "with open(\"dates_list.txt\", \"rb\") as fp:\n",
    "    dates_list = pickle.load(fp)\n",
    "with open(\"strings_list.txt\", \"rb\") as fp:\n",
    "    strings_list = pickle.load(fp)\n",
    "with open(\"locations_list.txt\", \"rb\") as fp:\n",
    "    locations_list = pickle.load(fp)\n",
    "with open(\"goods_list.txt\", \"rb\") as fp:\n",
    "    goods_list = pickle.load(fp)\n",
    "with open(\"companies_list.txt\", \"rb\") as fp:\n",
    "    companies_list = pickle.load(fp)"
   ]
  },
  {
   "cell_type": "code",
   "execution_count": 288,
   "metadata": {},
   "outputs": [],
   "source": [
    "# create a list of every list generated\n",
    "all_words = all_words_without_others + others_list"
   ]
  },
  {
   "cell_type": "code",
   "execution_count": 289,
   "metadata": {},
   "outputs": [],
   "source": [
    "all_lists = [dates_list, locations_list, strings_list, companies_list, goods_list, others_list]"
   ]
  },
  {
   "cell_type": "code",
   "execution_count": 290,
   "metadata": {},
   "outputs": [],
   "source": [
    "# generate target labels\n",
    "def generate_labels(item_list):\n",
    "    index = 0\n",
    "\n",
    "    for l in item_list:\n",
    "        a = np.zeros([len(l)]) + index\n",
    "        \n",
    "        if index == 0:\n",
    "            labels = np.hstack((a))\n",
    "        else:\n",
    "            labels = np.hstack((labels, a))\n",
    "        \n",
    "        index += 1\n",
    "        \n",
    "    # convert labels to categorical format\n",
    "    cat_labels = tf.keras.utils.to_categorical(labels)\n",
    "    return cat_labels\n",
    "\n",
    "cat_labels = generate_labels(all_lists)"
   ]
  },
  {
   "cell_type": "code",
   "execution_count": 291,
   "metadata": {},
   "outputs": [],
   "source": [
    "# generate dataset object\n",
    "def generate_dataset(data, cat_labels, batch_size):\n",
    "\n",
    "    dataset = tf.data.Dataset.from_tensor_slices((data, cat_labels))\n",
    "\n",
    "    return dataset\n",
    "\n",
    "full_dataset = generate_dataset(np.asarray(all_words), cat_labels, 32)"
   ]
  },
  {
   "cell_type": "code",
   "execution_count": 292,
   "metadata": {},
   "outputs": [],
   "source": [
    "# split into train and test datasets\n",
    "def split_dataset(full_dataset):\n",
    "    dataset_size = len(list(full_dataset))\n",
    "    train_size = int(0.8 * dataset_size)\n",
    "    test_size = int(0.2 * dataset_size)\n",
    "\n",
    "    full_dataset = full_dataset.shuffle(buffer_size=dataset_size)\n",
    "    train_dataset = full_dataset.take(train_size)\n",
    "    test_dataset = full_dataset.skip(train_size)\n",
    "    test_dataset = test_dataset.take(test_size)\n",
    "    \n",
    "    return train_dataset, test_dataset\n",
    "    \n",
    "train_dataset, test_dataset = split_dataset(full_dataset)"
   ]
  },
  {
   "cell_type": "code",
   "execution_count": 293,
   "metadata": {},
   "outputs": [],
   "source": [
    "# in case data is loaded from dataset, this can quickly retrieve data in numpy. \n",
    "# This needs to be done in order to tokenize data\n",
    "def retrieve_data(dataset):\n",
    "    dataset_size = len(list(dataset))\n",
    "    x = list()\n",
    "    y = list()\n",
    "    \n",
    "    # loop over dataset\n",
    "    for data, labels in dataset:\n",
    "        \n",
    "        # convert tensors into numpy, then append to list\n",
    "        x.append(data.numpy())\n",
    "        y.append(labels.numpy())\n",
    "    \n",
    "    return np.asarray(x), np.asarray(y)\n",
    "\n",
    "x_train, y_train = retrieve_data(train_dataset)\n",
    "x_test, y_test = retrieve_data(test_dataset)"
   ]
  },
  {
   "cell_type": "code",
   "execution_count": 294,
   "metadata": {},
   "outputs": [
    {
     "name": "stdout",
     "output_type": "stream",
     "text": [
      "(12667,) (3166,)\n"
     ]
    }
   ],
   "source": [
    "# check train and test shapes\n",
    "print(x_train.shape, x_test.shape)"
   ]
  },
  {
   "cell_type": "markdown",
   "metadata": {},
   "source": [
    "# Tokenization"
   ]
  },
  {
   "cell_type": "code",
   "execution_count": 295,
   "metadata": {},
   "outputs": [],
   "source": [
    "# create and fit tokenizer at character level\n",
    "tokenizer = Tokenizer(char_level=True)\n",
    "\n",
    "# tokenizer is fit only on training data\n",
    "tokenizer.fit_on_texts(x_train)"
   ]
  },
  {
   "cell_type": "code",
   "execution_count": 296,
   "metadata": {},
   "outputs": [],
   "source": [
    "# apply tokenizer to dataset\n",
    "x_train_token = tokenizer.texts_to_sequences(x_train)\n",
    "x_test_token = tokenizer.texts_to_sequences(x_test)"
   ]
  },
  {
   "cell_type": "code",
   "execution_count": 297,
   "metadata": {},
   "outputs": [],
   "source": [
    "# zero padding adds zeros to even strings of different lengths (they will be masked by the embedding layer)\n",
    "x_train_pad = tf.keras.preprocessing.sequence.pad_sequences(x_train_token, padding='post')\n",
    "x_test_pad = tf.keras.preprocessing.sequence.pad_sequences(x_test_token, padding='post')"
   ]
  },
  {
   "cell_type": "markdown",
   "metadata": {},
   "source": [
    "# Setup and training deep learning architecture"
   ]
  },
  {
   "cell_type": "markdown",
   "metadata": {},
   "source": [
    "This section contains the actual training of the deep neural network."
   ]
  },
  {
   "cell_type": "code",
   "execution_count": 298,
   "metadata": {},
   "outputs": [],
   "source": [
    "# maximum token value\n",
    "max_index_value = len(tokenizer.word_index)"
   ]
  },
  {
   "cell_type": "code",
   "execution_count": 311,
   "metadata": {},
   "outputs": [],
   "source": [
    "# a recurrent neural network seems to be the ideal architecture to capture the data structure. \n",
    "# A bi-directional layer is used to run through the tokenized characters strings back and forth\n",
    "\n",
    "model = tf.keras.models.Sequential([\n",
    "    tf.keras.layers.Embedding(max_index_value+1, 16, mask_zero=True), # ignore padding zeros\n",
    "    tf.keras.layers.Bidirectional(tf.keras.layers.LSTM(8, return_sequences=True), merge_mode='concat'), # output is 16\n",
    "    tf.keras.layers.GRU(8),\n",
    "    tf.keras.layers.Dense(6, activation='softmax') # 6 is the number of classes\n",
    "])"
   ]
  },
  {
   "cell_type": "code",
   "execution_count": 312,
   "metadata": {},
   "outputs": [],
   "source": [
    "# compile model\n",
    "model.compile(optimizer=tf.keras.optimizers.Adam(),\n",
    "              loss=tf.keras.losses.categorical_crossentropy, \n",
    "              metrics=[tf.keras.metrics.categorical_accuracy])"
   ]
  },
  {
   "cell_type": "code",
   "execution_count": 313,
   "metadata": {},
   "outputs": [],
   "source": [
    "# chekpoints: only save model with best validation accuracy\n",
    "checkpoint_best_path = 'models/model_best.h5'\n",
    "checkpoint_best = ModelCheckpoint(filepath=checkpoint_best_path,\n",
    "                                  monitor='val_categorical_accuracy',\n",
    "                                 save_best_only=True)"
   ]
  },
  {
   "cell_type": "code",
   "execution_count": 314,
   "metadata": {
    "scrolled": false
   },
   "outputs": [
    {
     "name": "stdout",
     "output_type": "stream",
     "text": [
      "Train on 11400 samples, validate on 1267 samples\n",
      "Epoch 1/10\n",
      "11400/11400 [==============================] - 35s 3ms/sample - loss: 1.1258 - categorical_accuracy: 0.5513 - val_loss: 0.7120 - val_categorical_accuracy: 0.6780\n",
      "Epoch 2/10\n",
      "11400/11400 [==============================] - 25s 2ms/sample - loss: 0.6606 - categorical_accuracy: 0.6844 - val_loss: 0.6281 - val_categorical_accuracy: 0.7127\n",
      "Epoch 3/10\n",
      "11400/11400 [==============================] - 24s 2ms/sample - loss: 0.6165 - categorical_accuracy: 0.7108 - val_loss: 0.5893 - val_categorical_accuracy: 0.7388\n",
      "Epoch 4/10\n",
      "11400/11400 [==============================] - 24s 2ms/sample - loss: 0.5927 - categorical_accuracy: 0.7353 - val_loss: 0.5695 - val_categorical_accuracy: 0.7466\n",
      "Epoch 5/10\n",
      "11400/11400 [==============================] - 25s 2ms/sample - loss: 0.5684 - categorical_accuracy: 0.7558 - val_loss: 0.5399 - val_categorical_accuracy: 0.7640\n",
      "Epoch 6/10\n",
      "11400/11400 [==============================] - 25s 2ms/sample - loss: 0.5371 - categorical_accuracy: 0.7706 - val_loss: 0.5187 - val_categorical_accuracy: 0.7695\n",
      "Epoch 7/10\n",
      "11400/11400 [==============================] - 24s 2ms/sample - loss: 0.5190 - categorical_accuracy: 0.7786 - val_loss: 0.5012 - val_categorical_accuracy: 0.7845\n",
      "Epoch 8/10\n",
      "11400/11400 [==============================] - 25s 2ms/sample - loss: 0.5068 - categorical_accuracy: 0.7856 - val_loss: 0.4933 - val_categorical_accuracy: 0.7924\n",
      "Epoch 9/10\n",
      "11400/11400 [==============================] - 25s 2ms/sample - loss: 0.5004 - categorical_accuracy: 0.7860 - val_loss: 0.4851 - val_categorical_accuracy: 0.7901\n",
      "Epoch 10/10\n",
      "11400/11400 [==============================] - 27s 2ms/sample - loss: 0.4933 - categorical_accuracy: 0.7896 - val_loss: 0.4754 - val_categorical_accuracy: 0.7853\n"
     ]
    }
   ],
   "source": [
    "# fit model and save history\n",
    "history = model.fit(x_train_pad, \n",
    "                    y_train, \n",
    "                    epochs=10, \n",
    "                    batch_size=32, \n",
    "                    validation_split=0.1,\n",
    "                    callbacks=[checkpoint_best])"
   ]
  },
  {
   "cell_type": "code",
   "execution_count": 315,
   "metadata": {},
   "outputs": [
    {
     "data": {
      "image/png": "[encoded data removed]",
      "text/plain": [
       "<Figure size 432x288 with 1 Axes>"
      ]
     },
     "metadata": {
      "needs_background": "light"
     },
     "output_type": "display_data"
    }
   ],
   "source": [
    "# plot loss\n",
    "plt.plot(history.history['loss'])\n",
    "plt.plot(history.history['val_loss'])\n",
    "plt.title('Train and validation loss (Fully-connected)')\n",
    "plt.xlabel('Epoch')\n",
    "plt.ylabel('Loss')\n",
    "plt.legend(['Training', 'Validation'], loc='upper right')\n",
    "plt.show()"
   ]
  },
  {
   "cell_type": "code",
   "execution_count": 316,
   "metadata": {
    "scrolled": true
   },
   "outputs": [
    {
     "data": {
      "image/png": "[encoded data removed]",
      "text/plain": [
       "<Figure size 432x288 with 1 Axes>"
      ]
     },
     "metadata": {
      "needs_background": "light"
     },
     "output_type": "display_data"
    }
   ],
   "source": [
    "# plot accuracy\n",
    "plt.plot(history.history['categorical_accuracy'])\n",
    "plt.plot(history.history['val_categorical_accuracy'])\n",
    "plt.title('Train and validation accuracy (Fully-connected)')\n",
    "plt.xlabel('Epoch')\n",
    "plt.ylabel('Accuracy')\n",
    "plt.legend(['Training', 'Validation'], loc='lower right')\n",
    "plt.show()"
   ]
  },
  {
   "cell_type": "markdown",
   "metadata": {},
   "source": [
    "Variations in the validation loss and accuracy are small enough after 6 epochs. There is no need to further increase the number of epochs. "
   ]
  },
  {
   "cell_type": "markdown",
   "metadata": {},
   "source": [
    "# Neural network evaluation"
   ]
  },
  {
   "cell_type": "markdown",
   "metadata": {},
   "source": [
    "There is no need to re-train the model, it can be loaded from the cell below."
   ]
  },
  {
   "cell_type": "code",
   "execution_count": 317,
   "metadata": {},
   "outputs": [],
   "source": [
    "# load best RNN\n",
    "best_model = tf.keras.models.load_model(checkpoint_best_path)"
   ]
  },
  {
   "cell_type": "code",
   "execution_count": 318,
   "metadata": {},
   "outputs": [
    {
     "name": "stdout",
     "output_type": "stream",
     "text": [
      "3166/3166 [==============================] - 2s 537us/sample - loss: 0.5066 - categorical_accuracy: 0.7761\n"
     ]
    }
   ],
   "source": [
    "# evaluate the RNN performance\n",
    "results = best_model.evaluate(x_test_pad,y_test)\n",
    "predictions = best_model.predict(x_test_pad)"
   ]
  },
  {
   "cell_type": "code",
   "execution_count": 319,
   "metadata": {},
   "outputs": [],
   "source": [
    "# transofrm numpy matrices into df columns\n",
    "def flat_array(output):\n",
    "    df_list = list()\n",
    "    [df_list.append(output[index]) for index in range(len(output))]\n",
    "    return df_list\n",
    "\n",
    "df_ytest = flat_array(y_test)\n",
    "df_predictions = flat_array(predictions)\n",
    "\n",
    "# round predictions values for visualization purposes\n",
    "df_predictions_round = list(np.around(np.array(df_predictions),2))"
   ]
  },
  {
   "cell_type": "code",
   "execution_count": null,
   "metadata": {},
   "outputs": [],
   "source": [
    "# convert ground-truth labels from categorical to actual string\n",
    "name_labels = ['Date', 'Location', 'Random string', 'Company names', 'Physical goods', 'Other']\n",
    "labels_strings_list = list()\n",
    "[labels_strings_list.append(list(itertools.compress(name_labels, line))) for line in y_test];"
   ]
  },
  {
   "cell_type": "code",
   "execution_count": 351,
   "metadata": {},
   "outputs": [],
   "source": [
    "# create prediction dataframe\n",
    "data = {'Strings': x_test, 'Ground-truths (string)': labels_strings_list, \\\n",
    "        'Ground-truths': df_ytest ,'Predictions': df_predictions_round}\n",
    "df = pd.DataFrame (data, columns = ['Strings', 'Ground-truths (string)', 'Ground-truths', 'Predictions'])"
   ]
  },
  {
   "cell_type": "code",
   "execution_count": 352,
   "metadata": {},
   "outputs": [
    {
     "data": {
      "text/html": [
       "<div>\n",
       "<style scoped>\n",
       "    .dataframe tbody tr th:only-of-type {\n",
       "        vertical-align: middle;\n",
       "    }\n",
       "\n",
       "    .dataframe tbody tr th {\n",
       "        vertical-align: top;\n",
       "    }\n",
       "\n",
       "    .dataframe thead th {\n",
       "        text-align: right;\n",
       "    }\n",
       "</style>\n",
       "<table border=\"1\" class=\"dataframe\">\n",
       "  <thead>\n",
       "    <tr style=\"text-align: right;\">\n",
       "      <th></th>\n",
       "      <th>Strings</th>\n",
       "      <th>Ground-truths (string)</th>\n",
       "      <th>Ground-truths</th>\n",
       "      <th>Predictions</th>\n",
       "    </tr>\n",
       "  </thead>\n",
       "  <tbody>\n",
       "    <tr>\n",
       "      <th>0</th>\n",
       "      <td>b'7-!{1&lt;7^6\\\\[~6'</td>\n",
       "      <td>[Random string]</td>\n",
       "      <td>[0.0, 0.0, 1.0, 0.0, 0.0, 0.0]</td>\n",
       "      <td>[0.0, 0.0, 1.0, 0.0, 0.0, 0.0]</td>\n",
       "    </tr>\n",
       "    <tr>\n",
       "      <th>1</th>\n",
       "      <td>b'Bond Site Services Ltd'</td>\n",
       "      <td>[Company names]</td>\n",
       "      <td>[0.0, 0.0, 0.0, 1.0, 0.0, 0.0]</td>\n",
       "      <td>[0.0, 0.0, 0.0, 1.0, 0.0, 0.0]</td>\n",
       "    </tr>\n",
       "    <tr>\n",
       "      <th>2</th>\n",
       "      <td>b'Poiccard Ltd.'</td>\n",
       "      <td>[Company names]</td>\n",
       "      <td>[0.0, 0.0, 0.0, 1.0, 0.0, 0.0]</td>\n",
       "      <td>[0.01, 0.0, 0.0, 0.98, 0.0, 0.01]</td>\n",
       "    </tr>\n",
       "    <tr>\n",
       "      <th>3</th>\n",
       "      <td>b'Monocline'</td>\n",
       "      <td>[Other]</td>\n",
       "      <td>[0.0, 0.0, 0.0, 0.0, 0.0, 1.0]</td>\n",
       "      <td>[0.0, 0.19, 0.01, 0.0, 0.36, 0.44]</td>\n",
       "    </tr>\n",
       "    <tr>\n",
       "      <th>4</th>\n",
       "      <td>b'Toba Tek Singh'</td>\n",
       "      <td>[Location]</td>\n",
       "      <td>[0.0, 1.0, 0.0, 0.0, 0.0, 0.0]</td>\n",
       "      <td>[0.0, 0.53, 0.0, 0.01, 0.1, 0.36]</td>\n",
       "    </tr>\n",
       "    <tr>\n",
       "      <th>...</th>\n",
       "      <td>...</td>\n",
       "      <td>...</td>\n",
       "      <td>...</td>\n",
       "      <td>...</td>\n",
       "    </tr>\n",
       "    <tr>\n",
       "      <th>3161</th>\n",
       "      <td>b'Greadon Power Ltd'</td>\n",
       "      <td>[Company names]</td>\n",
       "      <td>[0.0, 0.0, 0.0, 1.0, 0.0, 0.0]</td>\n",
       "      <td>[0.0, 0.0, 0.0, 0.99, 0.0, 0.0]</td>\n",
       "    </tr>\n",
       "    <tr>\n",
       "      <th>3162</th>\n",
       "      <td>b'13/Feb/1870'</td>\n",
       "      <td>[Date]</td>\n",
       "      <td>[1.0, 0.0, 0.0, 0.0, 0.0, 0.0]</td>\n",
       "      <td>[1.0, 0.0, 0.0, 0.0, 0.0, 0.0]</td>\n",
       "    </tr>\n",
       "    <tr>\n",
       "      <th>3163</th>\n",
       "      <td>b'colbert'</td>\n",
       "      <td>[Physical goods]</td>\n",
       "      <td>[0.0, 0.0, 0.0, 0.0, 1.0, 0.0]</td>\n",
       "      <td>[0.0, 0.09, 0.04, 0.0, 0.53, 0.33]</td>\n",
       "    </tr>\n",
       "    <tr>\n",
       "      <th>3164</th>\n",
       "      <td>b'R\\xc4\\x81ipur'</td>\n",
       "      <td>[Location]</td>\n",
       "      <td>[0.0, 1.0, 0.0, 0.0, 0.0, 0.0]</td>\n",
       "      <td>[0.0, 0.84, 0.0, 0.0, 0.06, 0.1]</td>\n",
       "    </tr>\n",
       "    <tr>\n",
       "      <th>3165</th>\n",
       "      <td>b'Shorewood'</td>\n",
       "      <td>[Location]</td>\n",
       "      <td>[0.0, 1.0, 0.0, 0.0, 0.0, 0.0]</td>\n",
       "      <td>[0.0, 0.22, 0.01, 0.0, 0.33, 0.45]</td>\n",
       "    </tr>\n",
       "  </tbody>\n",
       "</table>\n",
       "<p>3166 rows × 4 columns</p>\n",
       "</div>"
      ],
      "text/plain": [
       "                        Strings Ground-truths (string)  \\\n",
       "0             b'7-!{1<7^6\\\\[~6'        [Random string]   \n",
       "1     b'Bond Site Services Ltd'        [Company names]   \n",
       "2              b'Poiccard Ltd.'        [Company names]   \n",
       "3                  b'Monocline'                [Other]   \n",
       "4             b'Toba Tek Singh'             [Location]   \n",
       "...                         ...                    ...   \n",
       "3161       b'Greadon Power Ltd'        [Company names]   \n",
       "3162             b'13/Feb/1870'                 [Date]   \n",
       "3163                 b'colbert'       [Physical goods]   \n",
       "3164           b'R\\xc4\\x81ipur'             [Location]   \n",
       "3165               b'Shorewood'             [Location]   \n",
       "\n",
       "                       Ground-truths                         Predictions  \n",
       "0     [0.0, 0.0, 1.0, 0.0, 0.0, 0.0]      [0.0, 0.0, 1.0, 0.0, 0.0, 0.0]  \n",
       "1     [0.0, 0.0, 0.0, 1.0, 0.0, 0.0]      [0.0, 0.0, 0.0, 1.0, 0.0, 0.0]  \n",
       "2     [0.0, 0.0, 0.0, 1.0, 0.0, 0.0]   [0.01, 0.0, 0.0, 0.98, 0.0, 0.01]  \n",
       "3     [0.0, 0.0, 0.0, 0.0, 0.0, 1.0]  [0.0, 0.19, 0.01, 0.0, 0.36, 0.44]  \n",
       "4     [0.0, 1.0, 0.0, 0.0, 0.0, 0.0]   [0.0, 0.53, 0.0, 0.01, 0.1, 0.36]  \n",
       "...                              ...                                 ...  \n",
       "3161  [0.0, 0.0, 0.0, 1.0, 0.0, 0.0]     [0.0, 0.0, 0.0, 0.99, 0.0, 0.0]  \n",
       "3162  [1.0, 0.0, 0.0, 0.0, 0.0, 0.0]      [1.0, 0.0, 0.0, 0.0, 0.0, 0.0]  \n",
       "3163  [0.0, 0.0, 0.0, 0.0, 1.0, 0.0]  [0.0, 0.09, 0.04, 0.0, 0.53, 0.33]  \n",
       "3164  [0.0, 1.0, 0.0, 0.0, 0.0, 0.0]    [0.0, 0.84, 0.0, 0.0, 0.06, 0.1]  \n",
       "3165  [0.0, 1.0, 0.0, 0.0, 0.0, 0.0]  [0.0, 0.22, 0.01, 0.0, 0.33, 0.45]  \n",
       "\n",
       "[3166 rows x 4 columns]"
      ]
     },
     "execution_count": 352,
     "metadata": {},
     "output_type": "execute_result"
    }
   ],
   "source": [
    "df"
   ]
  },
  {
   "cell_type": "code",
   "execution_count": 353,
   "metadata": {},
   "outputs": [],
   "source": [
    "# save df to .csv\n",
    "df.to_csv('prediction_nlp.csv')"
   ]
  },
  {
   "cell_type": "markdown",
   "metadata": {},
   "source": [
    "# Final remarks"
   ]
  },
  {
   "cell_type": "markdown",
   "metadata": {},
   "source": [
    "In this test, the idea was providing the network with a balanced amount of data. In other words, each dataset has exactly the same size, corresponding to the size of the smaller of the datasets available (physical goods).\n",
    "\n",
    "While it is possible to virtually generate an infinite amount of dates and random strings, the other datasets are potentially limited by the size of the database available. However, the databases available for locations, company names and others are very large, while the physical goods dataset is much smaller in comparison. In fact, while it is possible to generate an infinite amount of company names, there is a limited number of physical goods in any English vocabulary.\n",
    "\n",
    "The idea here is that, by checking the final accuracy, we can see that the neural network is very accurate in detecting dates, random strings and company names, which means that the amount of data used for these classes is sufficient to get a good classification accuracy.\n",
    "\n",
    "On the other side, the network tends to struggle when classifying locations and physical goods.\n",
    "An informal test, suggests that using the whole locations dataset instead of a fraction, only leads to a minimal improvement in the validation accuracy."
   ]
  }
 ],
 "metadata": {
  "kernelspec": {
   "display_name": "Python 3",
   "language": "python",
   "name": "python3"
  },
  "language_info": {
   "codemirror_mode": {
    "name": "ipython",
    "version": 3
   },
   "file_extension": ".py",
   "mimetype": "text/x-python",
   "name": "python",
   "nbconvert_exporter": "python",
   "pygments_lexer": "ipython3",
   "version": "3.7.4"
  }
 },
 "nbformat": 4,
 "nbformat_minor": 4
}
